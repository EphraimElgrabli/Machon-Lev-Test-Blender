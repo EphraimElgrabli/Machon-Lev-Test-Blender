{
  "cells": [
    {
      "cell_type": "markdown",
      "metadata": {
        "id": "view-in-github",
        "colab_type": "text"
      },
      "source": [
        "<a href=\"https://colab.research.google.com/github/EphraimElgrabli/Machon-Lev-Test-Blender/blob/main/TestMixer.ipynb\" target=\"_parent\"><img src=\"https://colab.research.google.com/assets/colab-badge.svg\" alt=\"Open In Colab\"/></a>"
      ]
    },
    {
      "cell_type": "markdown",
      "metadata": {
        "id": "YoE79VbtWUAN"
      },
      "source": [
        "# - **Machon Lev Test Blender** -"
      ]
    },
    {
      "cell_type": "markdown",
      "metadata": {
        "id": "LGQxEdtFWePk"
      },
      "source": [
        "--------------------------------------------\n",
        "* Idea by [Shira Hoffman](https://www.linkedin.com/in/shira-hoffman/).\n",
        "* colab version by ZiK0.\n",
        "___________________________________________"
      ]
    },
    {
      "cell_type": "markdown",
      "source": [
        "###run this only one time!"
      ],
      "metadata": {
        "id": "KCx9JbWRnkmB"
      }
    },
    {
      "cell_type": "code",
      "source": [
        "!gdown 1oyvo-tMrInnluYRds9nVnJ-T4cvM1QUh\n",
        "!gdown 1NJL48SUmSydnL6V_bSFlM818k_-UI0g_\n",
        "\n",
        "# Import some necessary libraries\n",
        "!pip install pypdf\n",
        "!pip install fpdf\n",
        "!pip install python-bidi"
      ],
      "metadata": {
        "id": "h3sS305nnkSG"
      },
      "execution_count": null,
      "outputs": []
    },
    {
      "cell_type": "markdown",
      "metadata": {
        "id": "3AUT-46dYAKM"
      },
      "source": [
        "###Click on the play button :>\n"
      ]
    },
    {
      "cell_type": "code",
      "execution_count": null,
      "metadata": {
        "id": "ogqla3VEYKG-"
      },
      "outputs": [],
      "source": [
        "from ipywidgets import widgets\n",
        "from IPython.display import display, HTML\n",
        "from google.colab import drive, files\n",
        "from pypdf import PdfReader, PageObject\n",
        "from fpdf import FPDF\n",
        "import re\n",
        "import random\n",
        "from bidi.algorithm import get_display\n",
        "\n",
        "#FUNCTIONS\n",
        "#---------------------------------------------\n",
        "def rtl_multi_cell(pdf, txt):\n",
        "    shura = \"\"\n",
        "    ret = []\n",
        "    words = txt.split(\" \")\n",
        "    maxWidth = pdf.w-pdf.r_margin-pdf.x\n",
        "    #maxWidth = 20\n",
        "    for word in words:\n",
        "        shura += word.strip() + \" \" #cuz \"line\" have used already\n",
        "        lineWidth = pdf.get_string_width(shura)\n",
        "        if lineWidth > maxWidth - 1:\n",
        "            shura = ' '.join(shura.split(' ')[:-2])\n",
        "            ret.append(shura)\n",
        "            shura = word + \" \"\n",
        "    ret.append(shura)\n",
        "    return ret\n",
        "\n",
        "#MAIN\n",
        "#---------------------------------------------\n",
        "# User input section\n",
        "source = files.upload()\n",
        "#maxLineLength = 80\n",
        "\n",
        "# Create a PDF instance and set up its properties\n",
        "pdf = FPDF()\n",
        "pdf.add_page()\n",
        "pdf.add_font('Heebo', '', 'Heebo.ttf', uni=True)\n",
        "pdf.set_font(\"Heebo\", size=14)\n",
        "\n",
        "# Add some blank lines to the PDF and a Watermark\n",
        "pdf.image('Watermark.png', x=45, y=10, w=120, h=0, type='', link='')\n",
        "for x in range(5):\n",
        "    pdf.multi_cell(0, 7, \"\", align='R')\n",
        "\n",
        "# Read the input PDF\n",
        "exam = \"\"\n",
        "filename = next(iter(source))\n",
        "newFilename = filename.replace('.pdf', ' (מעורבל).pdf')\n",
        "pdfPath = filename\n",
        "pdfRead = PdfReader(pdfPath)\n",
        "\n",
        "# Extract text from the input PDF\n",
        "for page in pdfRead.pages:\n",
        "    exam += page.extract_text()\n",
        "print(exam)\n",
        "# Process the extracted text to extract questions and answers\n",
        "startPosition = exam.find(\"שאלה מספר\", 0)\n",
        "exam = exam[startPosition::]\n",
        "exam_lines = exam.split('\\n')\n",
        "#print(exam)\n",
        "question = None\n",
        "questions_list = []\n",
        "\n",
        "for line in exam_lines:\n",
        "    if line.startswith((\"עמוד\", \"שאלה\")):\n",
        "        if question is not None:\n",
        "            random.shuffle(question['answers'])\n",
        "            questions_list.append(question)\n",
        "        question = {'title': '', 'question': \"\", 'answers': []}\n",
        "        if 'שאלה' in line:\n",
        "            questionTitle = line[line.index('שאלה'):line.index(':') + 1]\n",
        "            questionTitle += '\\n'\n",
        "            question['title'] += questionTitle\n",
        "    elif re.match(r'[א-ד]\\s*\\.', line):\n",
        "        if question is not None:\n",
        "            question['answers'].append(line[3:])\n",
        "    elif question is not None:\n",
        "        question['question'] += line # Append the line to the question text\n",
        "\n",
        "# Add the last question after the loop\n",
        "if question is not None:\n",
        "    random.shuffle(question['answers'])\n",
        "    questions_list.append(question)\n",
        "\n",
        "# Generate the PDF with questions and answers\n",
        "for question in questions_list:\n",
        "    #print(question['question'])\n",
        "    i = 1\n",
        "    pdf.set_font(\"Heebo\", 'U', size=18)\n",
        "    pdf.multi_cell(0, 7, get_display(question['title']), align='R')\n",
        "    pdf.multi_cell(0, 7, \"\", align='R')\n",
        "\n",
        "    pdf.set_font(\"Heebo\", size=16)\n",
        "    toPrint = rtl_multi_cell(pdf, question['question'])\n",
        "    for subQuestion in toPrint:\n",
        "        pdf.multi_cell(0, 7, get_display(re.sub(\"\\s\\s+\" , \" \", subQuestion)), align='R')\n",
        "    pdf.multi_cell(0, 7, \"\", align='R')\n",
        "\n",
        "    pdf.set_font(\"Heebo\", size=14)\n",
        "    for answer in question['answers']:\n",
        "        pdf.multi_cell(0, 7, get_display(\" .\" + str(i)), align='R')\n",
        "        toPrint = rtl_multi_cell(pdf, answer)\n",
        "        for subQuestion in toPrint:\n",
        "            pdf.multi_cell(0, 7, get_display(re.sub(\"\\s\\s+\" , \" \", subQuestion)), align='R')\n",
        "        i += 1\n",
        "\n",
        "    pdf.set_font(\"Heebo\", size=12)\n",
        "    pdf.multi_cell(0, 7, \"\", align='R')\n",
        "    pdf.multi_cell(0, 7, \"( ^v^)b - Just one more to get 100!\", align='C')\n",
        "    pdf.multi_cell(0, 7, \"\", align='R')\n",
        "\n",
        "# Save the generated PDF\n",
        "pdf.output(newFilename)\n",
        "\n",
        "# Create a download button for the generated PDF\n",
        "def download_file(_):\n",
        "    files.download(newFilename)\n",
        "\n",
        "download_button = widgets.Button(description=' -Download- ')\n",
        "download_button.style.button_color = 'green'\n",
        "download_button.layout.width = '400px'\n",
        "download_button.layout.height = '50px'\n",
        "download_button.on_click(download_file)\n",
        "display(download_button)"
      ]
    }
  ],
  "metadata": {
    "colab": {
      "provenance": [],
      "collapsed_sections": [
        "KCx9JbWRnkmB"
      ],
      "include_colab_link": true
    },
    "kernelspec": {
      "display_name": "Python 3",
      "name": "python3"
    },
    "language_info": {
      "name": "python"
    }
  },
  "nbformat": 4,
  "nbformat_minor": 0
}
